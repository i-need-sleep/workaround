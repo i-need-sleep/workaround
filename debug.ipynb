{
 "cells": [
  {
   "cell_type": "code",
   "execution_count": 1,
   "id": "auburn-kruger",
   "metadata": {},
   "outputs": [],
   "source": [
    "import numpy as np\n",
    "import torch\n",
    "import pretty_midi"
   ]
  },
  {
   "cell_type": "code",
   "execution_count": 6,
   "id": "composite-jacob",
   "metadata": {},
   "outputs": [
    {
     "name": "stdout",
     "output_type": "stream",
     "text": [
      "Note(start=0.010000, end=0.370455, pitch=36, velocity=89)\n",
      "Note(start=0.010000, end=0.472727, pitch=67, velocity=89)\n",
      "Note(start=0.010000, end=0.472727, pitch=72, velocity=89)\n",
      "Note(start=0.010000, end=0.472727, pitch=76, velocity=89)\n",
      "Note(start=0.500000, end=0.736364, pitch=76, velocity=83)\n",
      "Note(start=0.500000, end=0.972727, pitch=55, velocity=78)\n",
      "Note(start=0.750000, end=0.986364, pitch=48, velocity=78)\n",
      "Note(start=0.750000, end=0.986364, pitch=74, velocity=83)\n",
      "Note(start=1.000000, end=1.236364, pitch=76, velocity=86)\n",
      "Note(start=1.000000, end=1.250000, pitch=48, velocity=81)\n",
      "Note(start=1.000000, end=1.472727, pitch=60, velocity=81)\n",
      "Note(start=1.250000, end=1.486364, pitch=48, velocity=78)\n",
      "Note(start=1.500000, end=1.736364, pitch=52, velocity=78)\n",
      "Note(start=1.500000, end=1.736364, pitch=55, velocity=78)\n",
      "Note(start=1.750000, end=1.986364, pitch=55, velocity=79)\n",
      "Note(start=1.750000, end=1.986364, pitch=77, velocity=84)\n",
      "Note(start=2.000000, end=2.947727, pitch=74, velocity=90)\n",
      "Note(start=2.250000, end=2.961364, pitch=50, velocity=79)\n",
      "Note(start=2.500000, end=2.972727, pitch=55, velocity=79)\n",
      "Note(start=2.750000, end=2.986364, pitch=58, velocity=79)\n",
      "Note(start=3.250000, end=3.486364, pitch=50, velocity=79)\n",
      "Note(start=3.500000, end=3.736364, pitch=57, velocity=79)\n",
      "Note(start=2.000000, end=3.897727, pitch=43, velocity=90)\n",
      "Note(start=3.000000, end=3.947727, pitch=62, velocity=82)\n",
      "Note(start=3.000000, end=3.947727, pitch=67, velocity=82)\n",
      "Note(start=3.750000, end=3.986364, pitch=55, velocity=79)\n",
      "Note(start=4.000000, end=4.372727, pitch=57, velocity=85)\n",
      "Note(start=4.000000, end=4.372727, pitch=69, velocity=85)\n",
      "Note(start=4.000000, end=4.497727, pitch=41, velocity=90)\n",
      "Note(start=4.000000, end=4.497727, pitch=53, velocity=85)\n",
      "Note(start=4.750000, end=4.986364, pitch=67, velocity=79)\n",
      "Note(start=4.500000, end=5.247727, pitch=48, velocity=79)\n",
      "Note(start=5.500000, end=5.736364, pitch=48, velocity=79)\n",
      "Note(start=5.500000, end=5.747727, pitch=65, velocity=79)\n",
      "Note(start=5.000000, end=5.947727, pitch=57, velocity=82)\n",
      "Note(start=5.000000, end=5.947727, pitch=60, velocity=82)\n",
      "Note(start=5.000000, end=5.947727, pitch=69, velocity=82)\n",
      "Note(start=5.750000, end=5.986364, pitch=67, velocity=79)\n",
      "Note(start=6.000000, end=6.947727, pitch=41, velocity=90)\n",
      "Note(start=6.000000, end=6.947727, pitch=57, velocity=85)\n",
      "Note(start=6.000000, end=6.947727, pitch=60, velocity=85)\n",
      "Note(start=6.000000, end=6.947727, pitch=69, velocity=85)\n",
      "Note(start=6.500000, end=6.972727, pitch=48, velocity=79)\n",
      "Note(start=7.000000, end=7.472727, pitch=57, velocity=82)\n",
      "Note(start=7.000000, end=7.497727, pitch=60, velocity=82)\n",
      "Note(start=7.000000, end=7.497727, pitch=69, velocity=82)\n",
      "Note(start=7.000000, end=7.497727, pitch=72, velocity=87)\n",
      "Note(start=7.500000, end=7.747727, pitch=41, velocity=84)\n",
      "Note(start=8.000000, end=8.497727, pitch=43, velocity=90)\n",
      "Note(start=8.000000, end=8.497727, pitch=55, velocity=90)\n",
      "Note(start=8.000000, end=8.947727, pitch=70, velocity=89)\n",
      "Note(start=8.000000, end=8.947727, pitch=74, velocity=89)\n",
      "Note(start=8.000000, end=8.947727, pitch=77, velocity=90)\n",
      "Note(start=8.500000, end=8.972727, pitch=50, velocity=79)\n",
      "Note(start=9.000000, end=9.497727, pitch=55, velocity=82)\n",
      "Note(start=9.000000, end=9.497727, pitch=58, velocity=82)\n",
      "Note(start=9.000000, end=9.497727, pitch=62, velocity=82)\n",
      "Note(start=9.500000, end=9.747727, pitch=58, velocity=79)\n",
      "Note(start=9.000000, end=9.947727, pitch=77, velocity=87)\n",
      "Note(start=10.000000, end=10.372727, pitch=69, velocity=89)\n",
      "Note(start=10.000000, end=10.372727, pitch=77, velocity=89)\n",
      "Note(start=10.000000, end=10.500000, pitch=48, velocity=90)\n",
      "Note(start=10.750000, end=10.986364, pitch=77, velocity=83)\n",
      "Note(start=11.000000, end=11.236364, pitch=76, velocity=86)\n",
      "Note(start=11.000000, end=11.472727, pitch=55, velocity=81)\n",
      "Note(start=11.000000, end=11.472727, pitch=60, velocity=81)\n",
      "Note(start=11.000000, end=11.472727, pitch=64, velocity=81)\n",
      "Note(start=11.250000, end=11.486364, pitch=77, velocity=83)\n",
      "Note(start=10.000000, end=11.897727, pitch=36, velocity=89)\n",
      "Note(start=10.500000, end=11.897727, pitch=48, velocity=78)\n",
      "Note(start=11.500000, end=11.972727, pitch=55, velocity=78)\n",
      "Note(start=11.500000, end=11.972727, pitch=72, velocity=83)\n",
      "Note(start=12.000000, end=12.947727, pitch=65, velocity=80)\n",
      "Note(start=12.000000, end=12.947727, pitch=69, velocity=80)\n",
      "Note(start=12.000000, end=12.947727, pitch=72, velocity=80)\n",
      "Note(start=12.000000, end=12.947727, pitch=77, velocity=89)\n",
      "Note(start=13.000000, end=13.497727, pitch=53, velocity=80)\n",
      "Note(start=13.000000, end=13.497727, pitch=60, velocity=80)\n",
      "Note(start=13.000000, end=13.497727, pitch=65, velocity=80)\n",
      "Note(start=13.000000, end=13.497727, pitch=69, velocity=80)\n",
      "Note(start=12.000000, end=13.897727, pitch=41, velocity=89)\n",
      "Note(start=14.000000, end=14.497727, pitch=41, velocity=82)\n",
      "Note(start=14.000000, end=14.497727, pitch=57, velocity=82)\n",
      "Note(start=14.000000, end=14.497727, pitch=60, velocity=82)\n",
      "Note(start=14.000000, end=14.497727, pitch=65, velocity=82)\n",
      "Note(start=15.250000, end=15.486364, pitch=72, velocity=79)\n",
      "Note(start=15.500000, end=15.736364, pitch=74, velocity=79)\n",
      "Note(start=15.750000, end=15.986364, pitch=72, velocity=79)\n"
     ]
    }
   ],
   "source": [
    "mid = pretty_midi.PrettyMIDI('./static/samples_out_anthem/001_A/accompaniment_track.mid')\n",
    "notes = mid.instruments[0].notes\n",
    "for note in notes:\n",
    "    if note.start <= 0.01:\n",
    "        note.start = 0.01\n",
    "mid.write('./static/samples_out_anthem/001_A/accompaniment_track.mid')\n"
   ]
  },
  {
   "cell_type": "code",
   "execution_count": null,
   "id": "noticed-balance",
   "metadata": {},
   "outputs": [],
   "source": []
  }
 ],
 "metadata": {
  "kernelspec": {
   "display_name": "Python 3.8.8 ('base')",
   "language": "python",
   "name": "python3"
  },
  "language_info": {
   "codemirror_mode": {
    "name": "ipython",
    "version": 3
   },
   "file_extension": ".py",
   "mimetype": "text/x-python",
   "name": "python",
   "nbconvert_exporter": "python",
   "pygments_lexer": "ipython3",
   "version": "3.8.8"
  },
  "vscode": {
   "interpreter": {
    "hash": "b5efcd3efc71ef29576cdfc4a5c5091a22a4d39f277c681ebc64abd29d3aec9c"
   }
  }
 },
 "nbformat": 4,
 "nbformat_minor": 5
}
